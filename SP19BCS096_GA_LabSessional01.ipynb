{
 "cells": [
  {
   "cell_type": "code",
   "execution_count": 7,
   "metadata": {},
   "outputs": [
    {
     "name": "stdout",
     "output_type": "stream",
     "text": [
      "Starting best score, % target:  66.66666666666666\n",
      "End best score, % target:  100.0\n"
     ]
    },
    {
     "data": {
      "image/png": "[encoded data removed]",
      "text/plain": [
       "<Figure size 432x288 with 1 Axes>"
      ]
     },
     "metadata": {
      "needs_background": "light"
     },
     "output_type": "display_data"
    }
   ],
   "source": [
    "import random\n",
    "import numpy as np\n",
    "\n",
    "def create_reference_solution(chromosome_length):\n",
    "\n",
    "    number_of_ones = int(chromosome_length / 2)\n",
    "    reference = np.zeros(chromosome_length)\n",
    "    reference[0: number_of_ones] = 1\n",
    "    np.random.shuffle(reference)\n",
    "    \n",
    "    return reference\n",
    "\n",
    "\n",
    "def create_starting_population(individuals, chromosome_length):\n",
    "    population = np.zeros((individuals, chromosome_length))\n",
    "    for i in range(individuals):\n",
    "        ones = random.randint(0, chromosome_length)\n",
    "        population[i, 0:ones] = 1\n",
    "        np.random.shuffle(population[i])\n",
    "    \n",
    "    return population\n",
    "\n",
    "\n",
    "def calculate_fitness(reference, population):\n",
    "    identical_to_reference = population == reference\n",
    "    fitness_scores = identical_to_reference.sum(axis=1)\n",
    "    \n",
    "    return fitness_scores\n",
    "\n",
    "\n",
    "def select_individual_by_tournament(population, scores):\n",
    "    population_size = len(scores)\n",
    "    fighter_1 = random.randint(0, population_size-1)\n",
    "    fighter_2 = random.randint(0, population_size-1)\n",
    "    fighter_1_fitness = scores[fighter_1]\n",
    "    fighter_2_fitness = scores[fighter_2]\n",
    "    if fighter_1_fitness >= fighter_2_fitness:\n",
    "        winner = fighter_1\n",
    "    else:\n",
    "        winner = fighter_2\n",
    "    return population[winner, :]\n",
    "\n",
    "def breed_by_crossover(parent_1, parent_2):\n",
    "    chromosome_length = len(parent_1)\n",
    "    crossover_point = random.randint(1,chromosome_length-1)\n",
    "    child_1 = np.hstack((parent_1[0:crossover_point],\n",
    "                        parent_2[crossover_point:]))\n",
    "    \n",
    "    child_2 = np.hstack((parent_2[0:crossover_point],\n",
    "                        parent_1[crossover_point:]))\n",
    "    \n",
    "    return child_1, child_2\n",
    "    \n",
    "\n",
    "def randomly_mutate_population(population, mutation_probability):\n",
    "    \n",
    "        random_mutation_array = np.random.random(\n",
    "            size=(population.shape))\n",
    "        \n",
    "        random_mutation_boolean = \\\n",
    "            random_mutation_array <= mutation_probability\n",
    "\n",
    "        population[random_mutation_boolean] = \\\n",
    "        np.logical_not(population[random_mutation_boolean])\n",
    "        return population\n",
    "    \n",
    "chromosome_length = 75\n",
    "population_size = 500\n",
    "maximum_generation = 200\n",
    "best_score_progress = [] \n",
    "\n",
    "reference = create_reference_solution(chromosome_length)\n",
    "population = create_starting_population(population_size, chromosome_length)\n",
    "scores = calculate_fitness(reference, population)\n",
    "best_score = np.max(scores)/chromosome_length * 100\n",
    "print ('Starting best score, % target: ',best_score)\n",
    "\n",
    "best_score_progress.append(best_score)\n",
    "for generation in range(maximum_generation):\n",
    "    new_population = []\n",
    "    for i in range(int(population_size/2)):\n",
    "        parent_1 = select_individual_by_tournament(population, scores)\n",
    "        parent_2 = select_individual_by_tournament(population, scores)\n",
    "        child_1, child_2 = breed_by_crossover(parent_1, parent_2)\n",
    "        new_population.append(child_1)\n",
    "        new_population.append(child_2)\n",
    "    population = np.array(new_population)\n",
    "    mutation_rate = 0.002\n",
    "    population = randomly_mutate_population(population, mutation_rate)\n",
    "    scores = calculate_fitness(reference, population)\n",
    "    best_score = np.max(scores)/chromosome_length * 100\n",
    "    best_score_progress.append(best_score)\n",
    "    \n",
    "print ('End best score, % target: ', best_score)\n",
    "import matplotlib.pyplot as plt\n",
    "plt.plot(best_score_progress)\n",
    "plt.xlabel('Generation')\n",
    "plt.ylabel('Best score (% target)')\n",
    "plt.show()"
   ]
  },
  {
   "cell_type": "code",
   "execution_count": null,
   "metadata": {},
   "outputs": [],
   "source": []
  }
 ],
 "metadata": {
  "kernelspec": {
   "display_name": "Python 3",
   "language": "python",
   "name": "python3"
  },
  "language_info": {
   "codemirror_mode": {
    "name": "ipython",
    "version": 3
   },
   "file_extension": ".py",
   "mimetype": "text/x-python",
   "name": "python",
   "nbconvert_exporter": "python",
   "pygments_lexer": "ipython3",
   "version": "3.8.5"
  }
 },
 "nbformat": 4,
 "nbformat_minor": 4
}
